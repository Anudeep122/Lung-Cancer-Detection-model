{
  "cells": [
    {
      "cell_type": "markdown",
      "metadata": {
        "id": "ghuxfgo1ULG5"
      },
      "source": [
        "**Importing Libraries**"
      ]
    },
    {
      "cell_type": "code",
      "execution_count": 1,
      "metadata": {
        "id": "zOsK7X8HquBT"
      },
      "outputs": [],
      "source": [
        "import numpy as np\n",
        "import os\n",
        "import tensorflow as tf\n",
        "from tensorflow.keras import layers, models"
      ]
    },
    {
      "cell_type": "markdown",
      "metadata": {
        "id": "WKN5g-fFULG8"
      },
      "source": [
        "**Loading and preparing Dataset**"
      ]
    },
    {
      "cell_type": "code",
      "execution_count": 2,
      "metadata": {
        "colab": {
          "base_uri": "https://localhost:8080/"
        },
        "id": "lGkfoA_4fKqd",
        "outputId": "8a1ae9e8-9974-4eef-c03b-7b4a4f416036"
      },
      "outputs": [
        {
          "output_type": "stream",
          "name": "stdout",
          "text": [
            "Mounted at /content/drive\n"
          ]
        }
      ],
      "source": [
        "from google.colab import drive\n",
        "drive.mount('/content/drive')"
      ]
    },
    {
      "cell_type": "code",
      "execution_count": 3,
      "metadata": {
        "colab": {
          "base_uri": "https://localhost:8080/"
        },
        "id": "WlXzbd6tcruW",
        "outputId": "b0eeee0e-0d92-494e-b5ba-c41bbbb7beaf"
      },
      "outputs": [
        {
          "output_type": "stream",
          "name": "stdout",
          "text": [
            "['adenocarcinoma_left.lower.lobe_T2_N0_M0_Ib', 'large.cell.carcinoma_left.hilum_T2_N2_M0_IIIa', 'normal', 'squamous.cell.carcinoma_left.hilum_T1_N2_M0_IIIa']\n"
          ]
        }
      ],
      "source": [
        "train_path = \"/content/drive/My Drive/Lung cancer detection/train\"\n",
        "class_list = sorted(os.listdir(train_path))\n",
        "print(class_list)"
      ]
    },
    {
      "cell_type": "code",
      "execution_count": 4,
      "metadata": {
        "id": "GAJgFNlIfqld"
      },
      "outputs": [],
      "source": [
        "img_files = []\n",
        "img_labels = []\n",
        "image_classes = []\n",
        "\n",
        "# Loop through each category in the training directory\n",
        "for idx, category in enumerate(class_list):\n",
        "    category_path = os.path.join(train_path, category)\n",
        "    image_classes.append(category)\n",
        "# Check all files in the category folder\n",
        "    for file_name in os.listdir(category_path):\n",
        "        if file_name.lower().endswith(('.jpg', '.jpeg', '.png')):\n",
        "            full_path = os.path.join(category_path, file_name)\n",
        "            img_files.append(full_path)\n",
        "            img_labels.append(idx)\n",
        "\n",
        "img_files = np.array(img_files)\n",
        "img_labels = np.array(img_labels)\n"
      ]
    },
    {
      "cell_type": "markdown",
      "source": [
        "**Data Info**"
      ],
      "metadata": {
        "id": "YBJ-lQKtUnjL"
      }
    },
    {
      "cell_type": "code",
      "source": [
        "no_of_img = len(img_files)\n",
        "print(f\"Total number of images: {no_of_img}\")\n",
        "\n",
        "no_of_classes = len(np.unique(img_labels))\n",
        "print(f\"Total number of classes: {no_of_classes}\")"
      ],
      "metadata": {
        "colab": {
          "base_uri": "https://localhost:8080/"
        },
        "id": "SMx2EcdIUs8J",
        "outputId": "6125c484-3d39-4d32-ac4d-4a299f1d44a4"
      },
      "execution_count": 5,
      "outputs": [
        {
          "output_type": "stream",
          "name": "stdout",
          "text": [
            "Total number of images: 612\n",
            "Total number of classes: 4\n"
          ]
        }
      ]
    },
    {
      "cell_type": "code",
      "source": [
        "print(\"Classes:\" , image_classes)"
      ],
      "metadata": {
        "colab": {
          "base_uri": "https://localhost:8080/"
        },
        "id": "d_ivCjEEVP8W",
        "outputId": "a0c10487-9ae8-45f4-b245-7c7f51f0d867"
      },
      "execution_count": 6,
      "outputs": [
        {
          "output_type": "stream",
          "name": "stdout",
          "text": [
            "Classes: ['adenocarcinoma_left.lower.lobe_T2_N0_M0_Ib', 'large.cell.carcinoma_left.hilum_T2_N2_M0_IIIa', 'normal', 'squamous.cell.carcinoma_left.hilum_T1_N2_M0_IIIa']\n"
          ]
        }
      ]
    },
    {
      "cell_type": "code",
      "source": [
        "unique_classes, counts = np.unique(img_labels, return_counts=True)\n",
        "\n",
        "for cls, count in zip(unique_classes, counts):\n",
        "    print(f\"{image_classes[cls]}: {count} \")"
      ],
      "metadata": {
        "colab": {
          "base_uri": "https://localhost:8080/"
        },
        "id": "cm2X8nhiVTHP",
        "outputId": "68f0edd4-0d56-404e-826f-8540cf913461"
      },
      "execution_count": 7,
      "outputs": [
        {
          "output_type": "stream",
          "name": "stdout",
          "text": [
            "adenocarcinoma_left.lower.lobe_T2_N0_M0_Ib: 194 \n",
            "large.cell.carcinoma_left.hilum_T2_N2_M0_IIIa: 115 \n",
            "normal: 148 \n",
            "squamous.cell.carcinoma_left.hilum_T1_N2_M0_IIIa: 155 \n"
          ]
        }
      ]
    },
    {
      "cell_type": "code",
      "source": [
        "import cv2\n",
        "import matplotlib.pyplot as plt\n",
        "\n",
        "all_pixels = []\n",
        "\n",
        "for img_path in img_files:\n",
        "    img = cv2.imread(img_path, cv2.IMREAD_GRAYSCALE)\n",
        "    if img is not None:\n",
        "        all_pixels.extend(img.flatten())\n",
        "\n",
        "all_pixels = np.array(all_pixels)\n",
        "\n",
        "plt.hist(all_pixels, bins=256, range=(0, 256), color='gray')\n",
        "plt.title(\"Combined Grayscale Intensity Histogram\")\n",
        "plt.xlabel(\"Pixel Intensity (0–255)\")\n",
        "plt.ylabel(\"Frequency\")\n",
        "plt.show()"
      ],
      "metadata": {
        "colab": {
          "base_uri": "https://localhost:8080/",
          "height": 472
        },
        "id": "gqfLX9ThVZKn",
        "outputId": "c044b8ef-0462-432c-a3b7-395dd714f7c5"
      },
      "execution_count": 8,
      "outputs": [
        {
          "output_type": "display_data",
          "data": {
            "text/plain": [
              "<Figure size 640x480 with 1 Axes>"
            ],
            "image/png": "[encoded data removed]"
          },
          "metadata": {}
        }
      ]
    },
    {
      "cell_type": "markdown",
      "source": [
        "**Data Preprocessing**"
      ],
      "metadata": {
        "id": "ZKycLIh2WMyw"
      }
    },
    {
      "cell_type": "code",
      "execution_count": 9,
      "metadata": {
        "id": "Blh5FUP_h1J5"
      },
      "outputs": [],
      "source": [
        "augmentation_pipeline = tf.keras.Sequential([\n",
        "    tf.keras.layers.RandomFlip(\"horizontal\"),      # Flip images horizontally\n",
        "    tf.keras.layers.RandomRotation(0.05),          # Small angle rotation\n",
        "    tf.keras.layers.RandomZoom(0.05),              # Slight zoom in/out\n",
        "    tf.keras.layers.RandomContrast(0.05),          # Adjust contrast slightly\n",
        "])\n",
        "\n",
        "\n",
        "# Function to read and process a single image\n",
        "def load_and_process_image(file_path, label):\n",
        "    img = tf.io.read_file(file_path)\n",
        "    img = tf.image.decode_jpeg(img, channels=1)  # Set channels=1 for grayscale\n",
        "    img = tf.image.resize(img, [256, 256])\n",
        "    img = img / 255.0  # Normalize to [0, 1]\n",
        "    return img, label\n",
        "\n",
        "# Function to construct a TensorFlow dataset\n",
        "def build_dataset(file_paths, file_labels, batch_size=16, shuffle_data=False, apply_augmentation=False):\n",
        "    dataset = tf.data.Dataset.from_tensor_slices((file_paths, file_labels))\n",
        "\n",
        "    if shuffle_data:\n",
        "        dataset = dataset.shuffle(buffer_size=len(file_paths), seed=42)\n",
        "\n",
        "    dataset = dataset.map(load_and_process_image, num_parallel_calls=tf.data.AUTOTUNE)\n",
        "\n",
        "    if apply_augmentation:\n",
        "        dataset = dataset.map(\n",
        "            lambda image, label: (augmentation_pipeline(image, training=True), label),\n",
        "            num_parallel_calls=tf.data.AUTOTUNE\n",
        "        )\n",
        "\n",
        "    dataset = dataset.batch(batch_size).prefetch(tf.data.AUTOTUNE)\n",
        "    return dataset\n"
      ]
    },
    {
      "cell_type": "markdown",
      "source": [
        "**Building the Model**"
      ],
      "metadata": {
        "id": "pWUGgIykV0ue"
      }
    },
    {
      "cell_type": "code",
      "execution_count": 10,
      "metadata": {
        "id": "PqJ74Ge1iyR8"
      },
      "outputs": [],
      "source": [
        "def create_cnn_model():\n",
        "    model_arch = tf.keras.Sequential([\n",
        "        tf.keras.layers.Conv2D(32, kernel_size=(3, 3), activation='relu', input_shape=(256, 256, 1)),\n",
        "        tf.keras.layers.MaxPooling2D(pool_size=(2, 2)),\n",
        "\n",
        "        tf.keras.layers.Conv2D(64, kernel_size=(3, 3), activation='relu'),\n",
        "        tf.keras.layers.MaxPooling2D(pool_size=(2, 2)),\n",
        "\n",
        "        tf.keras.layers.Conv2D(128, kernel_size=(3, 3), activation='relu'),\n",
        "        tf.keras.layers.MaxPooling2D(pool_size=(2, 2)),\n",
        "\n",
        "        tf.keras.layers.Flatten(),\n",
        "        tf.keras.layers.Dense(128, activation='relu'),\n",
        "        tf.keras.layers.Dropout(rate=0.3),\n",
        "        tf.keras.layers.Dense(4, activation='softmax')  # Output layer for 4 categories\n",
        "    ])\n",
        "\n",
        "    model_arch.compile(\n",
        "        optimizer=tf.keras.optimizers.Adam(learning_rate=0.0004),\n",
        "        loss='sparse_categorical_crossentropy',\n",
        "        metrics=['accuracy']\n",
        "    )\n",
        "\n",
        "    return model_arch\n"
      ]
    },
    {
      "cell_type": "markdown",
      "source": [
        "**Preparing the final model**"
      ],
      "metadata": {
        "id": "C3MtN4t6V3in"
      }
    },
    {
      "cell_type": "code",
      "execution_count": 11,
      "metadata": {
        "colab": {
          "base_uri": "https://localhost:8080/"
        },
        "id": "8fp6dT0YjaYI",
        "outputId": "b926ddba-1c6c-4df5-de0d-4ce8680abda7"
      },
      "outputs": [
        {
          "metadata": {
            "tags": null
          },
          "name": "stderr",
          "output_type": "stream",
          "text": [
            "/usr/local/lib/python3.11/dist-packages/keras/src/layers/convolutional/base_conv.py:107: UserWarning: Do not pass an `input_shape`/`input_dim` argument to a layer. When using Sequential models, prefer using an `Input(shape)` object as the first layer in the model instead.\n",
            "  super().__init__(activity_regularizer=activity_regularizer, **kwargs)\n"
          ]
        },
        {
          "output_type": "stream",
          "name": "stdout",
          "text": [
            "Epoch 1/60\n",
            "\u001b[1m39/39\u001b[0m \u001b[32m━━━━━━━━━━━━━━━━━━━━\u001b[0m\u001b[37m\u001b[0m \u001b[1m103s\u001b[0m 2s/step - accuracy: 0.3776 - loss: 1.3676\n",
            "Epoch 2/60\n",
            "\u001b[1m39/39\u001b[0m \u001b[32m━━━━━━━━━━━━━━━━━━━━\u001b[0m\u001b[37m\u001b[0m \u001b[1m96s\u001b[0m 2s/step - accuracy: 0.5772 - loss: 0.9454\n",
            "Epoch 3/60\n",
            "\u001b[1m39/39\u001b[0m \u001b[32m━━━━━━━━━━━━━━━━━━━━\u001b[0m\u001b[37m\u001b[0m \u001b[1m94s\u001b[0m 2s/step - accuracy: 0.6170 - loss: 0.8345\n",
            "Epoch 4/60\n",
            "\u001b[1m39/39\u001b[0m \u001b[32m━━━━━━━━━━━━━━━━━━━━\u001b[0m\u001b[37m\u001b[0m \u001b[1m146s\u001b[0m 3s/step - accuracy: 0.7309 - loss: 0.6653\n",
            "Epoch 5/60\n",
            "\u001b[1m39/39\u001b[0m \u001b[32m━━━━━━━━━━━━━━━━━━━━\u001b[0m\u001b[37m\u001b[0m \u001b[1m138s\u001b[0m 2s/step - accuracy: 0.7218 - loss: 0.6850\n",
            "Epoch 6/60\n",
            "\u001b[1m39/39\u001b[0m \u001b[32m━━━━━━━━━━━━━━━━━━━━\u001b[0m\u001b[37m\u001b[0m \u001b[1m140s\u001b[0m 2s/step - accuracy: 0.8024 - loss: 0.5203\n",
            "Epoch 7/60\n",
            "\u001b[1m39/39\u001b[0m \u001b[32m━━━━━━━━━━━━━━━━━━━━\u001b[0m\u001b[37m\u001b[0m \u001b[1m144s\u001b[0m 2s/step - accuracy: 0.7748 - loss: 0.5271\n",
            "Epoch 8/60\n",
            "\u001b[1m39/39\u001b[0m \u001b[32m━━━━━━━━━━━━━━━━━━━━\u001b[0m\u001b[37m\u001b[0m \u001b[1m94s\u001b[0m 2s/step - accuracy: 0.8222 - loss: 0.4447\n",
            "Epoch 9/60\n",
            "\u001b[1m39/39\u001b[0m \u001b[32m━━━━━━━━━━━━━━━━━━━━\u001b[0m\u001b[37m\u001b[0m \u001b[1m142s\u001b[0m 2s/step - accuracy: 0.8068 - loss: 0.4450\n",
            "Epoch 10/60\n",
            "\u001b[1m39/39\u001b[0m \u001b[32m━━━━━━━━━━━━━━━━━━━━\u001b[0m\u001b[37m\u001b[0m \u001b[1m95s\u001b[0m 2s/step - accuracy: 0.8208 - loss: 0.3960\n",
            "Epoch 11/60\n",
            "\u001b[1m39/39\u001b[0m \u001b[32m━━━━━━━━━━━━━━━━━━━━\u001b[0m\u001b[37m\u001b[0m \u001b[1m140s\u001b[0m 2s/step - accuracy: 0.8485 - loss: 0.4073\n",
            "Epoch 12/60\n",
            "\u001b[1m39/39\u001b[0m \u001b[32m━━━━━━━━━━━━━━━━━━━━\u001b[0m\u001b[37m\u001b[0m \u001b[1m94s\u001b[0m 2s/step - accuracy: 0.8509 - loss: 0.3719\n",
            "Epoch 13/60\n",
            "\u001b[1m39/39\u001b[0m \u001b[32m━━━━━━━━━━━━━━━━━━━━\u001b[0m\u001b[37m\u001b[0m \u001b[1m94s\u001b[0m 2s/step - accuracy: 0.8933 - loss: 0.3110\n",
            "Epoch 14/60\n",
            "\u001b[1m39/39\u001b[0m \u001b[32m━━━━━━━━━━━━━━━━━━━━\u001b[0m\u001b[37m\u001b[0m \u001b[1m93s\u001b[0m 2s/step - accuracy: 0.8858 - loss: 0.3158\n",
            "Epoch 15/60\n",
            "\u001b[1m39/39\u001b[0m \u001b[32m━━━━━━━━━━━━━━━━━━━━\u001b[0m\u001b[37m\u001b[0m \u001b[1m94s\u001b[0m 2s/step - accuracy: 0.8679 - loss: 0.3564\n",
            "Epoch 16/60\n",
            "\u001b[1m39/39\u001b[0m \u001b[32m━━━━━━━━━━━━━━━━━━━━\u001b[0m\u001b[37m\u001b[0m \u001b[1m93s\u001b[0m 2s/step - accuracy: 0.8845 - loss: 0.2778\n",
            "Epoch 17/60\n",
            "\u001b[1m39/39\u001b[0m \u001b[32m━━━━━━━━━━━━━━━━━━━━\u001b[0m\u001b[37m\u001b[0m \u001b[1m94s\u001b[0m 2s/step - accuracy: 0.9061 - loss: 0.2599\n",
            "Epoch 18/60\n",
            "\u001b[1m39/39\u001b[0m \u001b[32m━━━━━━━━━━━━━━━━━━━━\u001b[0m\u001b[37m\u001b[0m \u001b[1m92s\u001b[0m 2s/step - accuracy: 0.9270 - loss: 0.2494\n",
            "Epoch 19/60\n",
            "\u001b[1m39/39\u001b[0m \u001b[32m━━━━━━━━━━━━━━━━━━━━\u001b[0m\u001b[37m\u001b[0m \u001b[1m94s\u001b[0m 2s/step - accuracy: 0.9067 - loss: 0.2249\n",
            "Epoch 20/60\n",
            "\u001b[1m39/39\u001b[0m \u001b[32m━━━━━━━━━━━━━━━━━━━━\u001b[0m\u001b[37m\u001b[0m \u001b[1m141s\u001b[0m 2s/step - accuracy: 0.9139 - loss: 0.2394\n",
            "Epoch 21/60\n",
            "\u001b[1m39/39\u001b[0m \u001b[32m━━━━━━━━━━━━━━━━━━━━\u001b[0m\u001b[37m\u001b[0m \u001b[1m93s\u001b[0m 2s/step - accuracy: 0.9262 - loss: 0.2174\n",
            "Epoch 22/60\n",
            "\u001b[1m39/39\u001b[0m \u001b[32m━━━━━━━━━━━━━━━━━━━━\u001b[0m\u001b[37m\u001b[0m \u001b[1m94s\u001b[0m 2s/step - accuracy: 0.9227 - loss: 0.2386\n",
            "Epoch 23/60\n",
            "\u001b[1m39/39\u001b[0m \u001b[32m━━━━━━━━━━━━━━━━━━━━\u001b[0m\u001b[37m\u001b[0m \u001b[1m93s\u001b[0m 2s/step - accuracy: 0.9473 - loss: 0.1650\n",
            "Epoch 24/60\n",
            "\u001b[1m39/39\u001b[0m \u001b[32m━━━━━━━━━━━━━━━━━━━━\u001b[0m\u001b[37m\u001b[0m \u001b[1m144s\u001b[0m 2s/step - accuracy: 0.9201 - loss: 0.2184\n",
            "Epoch 25/60\n",
            "\u001b[1m39/39\u001b[0m \u001b[32m━━━━━━━━━━━━━━━━━━━━\u001b[0m\u001b[37m\u001b[0m \u001b[1m93s\u001b[0m 2s/step - accuracy: 0.9208 - loss: 0.2077\n",
            "Epoch 26/60\n",
            "\u001b[1m39/39\u001b[0m \u001b[32m━━━━━━━━━━━━━━━━━━━━\u001b[0m\u001b[37m\u001b[0m \u001b[1m95s\u001b[0m 2s/step - accuracy: 0.9337 - loss: 0.1772\n",
            "Epoch 27/60\n",
            "\u001b[1m39/39\u001b[0m \u001b[32m━━━━━━━━━━━━━━━━━━━━\u001b[0m\u001b[37m\u001b[0m \u001b[1m140s\u001b[0m 2s/step - accuracy: 0.9392 - loss: 0.1600\n",
            "Epoch 28/60\n",
            "\u001b[1m39/39\u001b[0m \u001b[32m━━━━━━━━━━━━━━━━━━━━\u001b[0m\u001b[37m\u001b[0m \u001b[1m95s\u001b[0m 2s/step - accuracy: 0.9391 - loss: 0.1782\n",
            "Epoch 29/60\n",
            "\u001b[1m39/39\u001b[0m \u001b[32m━━━━━━━━━━━━━━━━━━━━\u001b[0m\u001b[37m\u001b[0m \u001b[1m93s\u001b[0m 2s/step - accuracy: 0.9257 - loss: 0.1868\n",
            "Epoch 30/60\n",
            "\u001b[1m39/39\u001b[0m \u001b[32m━━━━━━━━━━━━━━━━━━━━\u001b[0m\u001b[37m\u001b[0m \u001b[1m143s\u001b[0m 2s/step - accuracy: 0.9384 - loss: 0.1752\n",
            "Epoch 31/60\n",
            "\u001b[1m39/39\u001b[0m \u001b[32m━━━━━━━━━━━━━━━━━━━━\u001b[0m\u001b[37m\u001b[0m \u001b[1m141s\u001b[0m 2s/step - accuracy: 0.9362 - loss: 0.1713\n",
            "Epoch 32/60\n",
            "\u001b[1m39/39\u001b[0m \u001b[32m━━━━━━━━━━━━━━━━━━━━\u001b[0m\u001b[37m\u001b[0m \u001b[1m92s\u001b[0m 2s/step - accuracy: 0.9573 - loss: 0.1221\n",
            "Epoch 33/60\n",
            "\u001b[1m39/39\u001b[0m \u001b[32m━━━━━━━━━━━━━━━━━━━━\u001b[0m\u001b[37m\u001b[0m \u001b[1m94s\u001b[0m 2s/step - accuracy: 0.9494 - loss: 0.1655\n",
            "Epoch 34/60\n",
            "\u001b[1m39/39\u001b[0m \u001b[32m━━━━━━━━━━━━━━━━━━━━\u001b[0m\u001b[37m\u001b[0m \u001b[1m92s\u001b[0m 2s/step - accuracy: 0.9359 - loss: 0.1831\n",
            "Epoch 35/60\n",
            "\u001b[1m39/39\u001b[0m \u001b[32m━━━━━━━━━━━━━━━━━━━━\u001b[0m\u001b[37m\u001b[0m \u001b[1m142s\u001b[0m 2s/step - accuracy: 0.9486 - loss: 0.1504\n",
            "Epoch 36/60\n",
            "\u001b[1m39/39\u001b[0m \u001b[32m━━━━━━━━━━━━━━━━━━━━\u001b[0m\u001b[37m\u001b[0m \u001b[1m141s\u001b[0m 2s/step - accuracy: 0.9422 - loss: 0.1587\n",
            "Epoch 37/60\n",
            "\u001b[1m39/39\u001b[0m \u001b[32m━━━━━━━━━━━━━━━━━━━━\u001b[0m\u001b[37m\u001b[0m \u001b[1m92s\u001b[0m 2s/step - accuracy: 0.9570 - loss: 0.1213\n",
            "Epoch 38/60\n",
            "\u001b[1m39/39\u001b[0m \u001b[32m━━━━━━━━━━━━━━━━━━━━\u001b[0m\u001b[37m\u001b[0m \u001b[1m93s\u001b[0m 2s/step - accuracy: 0.9590 - loss: 0.1448\n",
            "Epoch 39/60\n",
            "\u001b[1m39/39\u001b[0m \u001b[32m━━━━━━━━━━━━━━━━━━━━\u001b[0m\u001b[37m\u001b[0m \u001b[1m92s\u001b[0m 2s/step - accuracy: 0.9366 - loss: 0.1576\n",
            "Epoch 40/60\n",
            "\u001b[1m39/39\u001b[0m \u001b[32m━━━━━━━━━━━━━━━━━━━━\u001b[0m\u001b[37m\u001b[0m \u001b[1m92s\u001b[0m 2s/step - accuracy: 0.9493 - loss: 0.1331\n",
            "Epoch 41/60\n",
            "\u001b[1m39/39\u001b[0m \u001b[32m━━━━━━━━━━━━━━━━━━━━\u001b[0m\u001b[37m\u001b[0m \u001b[1m142s\u001b[0m 2s/step - accuracy: 0.9594 - loss: 0.1172\n",
            "Epoch 42/60\n",
            "\u001b[1m39/39\u001b[0m \u001b[32m━━━━━━━━━━━━━━━━━━━━\u001b[0m\u001b[37m\u001b[0m \u001b[1m141s\u001b[0m 2s/step - accuracy: 0.9619 - loss: 0.0960\n",
            "Epoch 43/60\n",
            "\u001b[1m39/39\u001b[0m \u001b[32m━━━━━━━━━━━━━━━━━━━━\u001b[0m\u001b[37m\u001b[0m \u001b[1m143s\u001b[0m 2s/step - accuracy: 0.9402 - loss: 0.1809\n",
            "Epoch 44/60\n",
            "\u001b[1m39/39\u001b[0m \u001b[32m━━━━━━━━━━━━━━━━━━━━\u001b[0m\u001b[37m\u001b[0m \u001b[1m141s\u001b[0m 2s/step - accuracy: 0.9513 - loss: 0.1067\n",
            "Epoch 45/60\n",
            "\u001b[1m39/39\u001b[0m \u001b[32m━━━━━━━━━━━━━━━━━━━━\u001b[0m\u001b[37m\u001b[0m \u001b[1m93s\u001b[0m 2s/step - accuracy: 0.9669 - loss: 0.0956\n",
            "Epoch 46/60\n",
            "\u001b[1m39/39\u001b[0m \u001b[32m━━━━━━━━━━━━━━━━━━━━\u001b[0m\u001b[37m\u001b[0m \u001b[1m141s\u001b[0m 2s/step - accuracy: 0.9654 - loss: 0.0913\n",
            "Epoch 47/60\n",
            "\u001b[1m39/39\u001b[0m \u001b[32m━━━━━━━━━━━━━━━━━━━━\u001b[0m\u001b[37m\u001b[0m \u001b[1m143s\u001b[0m 2s/step - accuracy: 0.9607 - loss: 0.1137\n",
            "Epoch 48/60\n",
            "\u001b[1m39/39\u001b[0m \u001b[32m━━━━━━━━━━━━━━━━━━━━\u001b[0m\u001b[37m\u001b[0m \u001b[1m140s\u001b[0m 2s/step - accuracy: 0.9551 - loss: 0.0934\n",
            "Epoch 49/60\n",
            "\u001b[1m39/39\u001b[0m \u001b[32m━━━━━━━━━━━━━━━━━━━━\u001b[0m\u001b[37m\u001b[0m \u001b[1m143s\u001b[0m 2s/step - accuracy: 0.9667 - loss: 0.1000\n",
            "Epoch 50/60\n",
            "\u001b[1m39/39\u001b[0m \u001b[32m━━━━━━━━━━━━━━━━━━━━\u001b[0m\u001b[37m\u001b[0m \u001b[1m93s\u001b[0m 2s/step - accuracy: 0.9593 - loss: 0.0931\n",
            "Epoch 51/60\n",
            "\u001b[1m39/39\u001b[0m \u001b[32m━━━━━━━━━━━━━━━━━━━━\u001b[0m\u001b[37m\u001b[0m \u001b[1m91s\u001b[0m 2s/step - accuracy: 0.9540 - loss: 0.1112\n",
            "Epoch 52/60\n",
            "\u001b[1m39/39\u001b[0m \u001b[32m━━━━━━━━━━━━━━━━━━━━\u001b[0m\u001b[37m\u001b[0m \u001b[1m93s\u001b[0m 2s/step - accuracy: 0.9669 - loss: 0.0829\n",
            "Epoch 53/60\n",
            "\u001b[1m39/39\u001b[0m \u001b[32m━━━━━━━━━━━━━━━━━━━━\u001b[0m\u001b[37m\u001b[0m \u001b[1m140s\u001b[0m 2s/step - accuracy: 0.9706 - loss: 0.1232\n",
            "Epoch 54/60\n",
            "\u001b[1m39/39\u001b[0m \u001b[32m━━━━━━━━━━━━━━━━━━━━\u001b[0m\u001b[37m\u001b[0m \u001b[1m91s\u001b[0m 2s/step - accuracy: 0.9441 - loss: 0.1205\n",
            "Epoch 55/60\n",
            "\u001b[1m39/39\u001b[0m \u001b[32m━━━━━━━━━━━━━━━━━━━━\u001b[0m\u001b[37m\u001b[0m \u001b[1m143s\u001b[0m 2s/step - accuracy: 0.9788 - loss: 0.0627\n",
            "Epoch 56/60\n",
            "\u001b[1m39/39\u001b[0m \u001b[32m━━━━━━━━━━━━━━━━━━━━\u001b[0m\u001b[37m\u001b[0m \u001b[1m141s\u001b[0m 2s/step - accuracy: 0.9689 - loss: 0.0799\n",
            "Epoch 57/60\n",
            "\u001b[1m39/39\u001b[0m \u001b[32m━━━━━━━━━━━━━━━━━━━━\u001b[0m\u001b[37m\u001b[0m \u001b[1m143s\u001b[0m 2s/step - accuracy: 0.9609 - loss: 0.0888\n",
            "Epoch 58/60\n",
            "\u001b[1m39/39\u001b[0m \u001b[32m━━━━━━━━━━━━━━━━━━━━\u001b[0m\u001b[37m\u001b[0m \u001b[1m92s\u001b[0m 2s/step - accuracy: 0.9748 - loss: 0.0659\n",
            "Epoch 59/60\n",
            "\u001b[1m39/39\u001b[0m \u001b[32m━━━━━━━━━━━━━━━━━━━━\u001b[0m\u001b[37m\u001b[0m \u001b[1m143s\u001b[0m 2s/step - accuracy: 0.9700 - loss: 0.0757\n",
            "Epoch 60/60\n",
            "\u001b[1m39/39\u001b[0m \u001b[32m━━━━━━━━━━━━━━━━━━━━\u001b[0m\u001b[37m\u001b[0m \u001b[1m92s\u001b[0m 2s/step - accuracy: 0.9841 - loss: 0.0531\n"
          ]
        }
      ],
      "source": [
        "# Preparing the complete training dataset with shuffling and augmentation enabled\n",
        "train_dataset = build_dataset(img_files, img_labels, shuffle_data=True, apply_augmentation=True)\n",
        "\n",
        "model_final = create_cnn_model()\n",
        "\n",
        "# Train the model over multiple epochs and track performance\n",
        "training_history = model_final.fit(\n",
        "    train_dataset,\n",
        "    epochs=60,  # Adjust this as needed\n",
        "    verbose=1\n",
        ")"
      ]
    },
    {
      "cell_type": "markdown",
      "source": [
        "**Visualising loss over epochs**"
      ],
      "metadata": {
        "id": "PGApQ07DV6Rg"
      }
    },
    {
      "cell_type": "code",
      "execution_count": 12,
      "metadata": {
        "colab": {
          "base_uri": "https://localhost:8080/",
          "height": 607
        },
        "id": "DnLKRYOO-osC",
        "outputId": "b63c98c0-b436-4a54-fe9e-18d0d7105dd0"
      },
      "outputs": [
        {
          "output_type": "display_data",
          "data": {
            "text/plain": [
              "<Figure size 1200x600 with 1 Axes>"
            ],
            "image/png": "[encoded data removed]"
          },
          "metadata": {}
        }
      ],
      "source": [
        "import matplotlib.pyplot as plt\n",
        "\n",
        "# Visualize how the training loss evolves over time\n",
        "plt.figure(figsize=(12, 6))\n",
        "plt.plot(training_history.history['loss'], label='Loss (Train)')\n",
        "plt.title('Loss Curve During Training')\n",
        "plt.xlabel('Epoch')\n",
        "plt.ylabel('Loss Value')\n",
        "plt.legend()\n",
        "plt.grid(True)\n",
        "plt.tight_layout()\n",
        "plt.show()\n"
      ]
    },
    {
      "cell_type": "markdown",
      "source": [
        "**Testing the model**"
      ],
      "metadata": {
        "id": "SLzWcSO6V8Xk"
      }
    },
    {
      "cell_type": "code",
      "execution_count": 13,
      "metadata": {
        "colab": {
          "base_uri": "https://localhost:8080/"
        },
        "id": "NLPc497P-3K6",
        "outputId": "6a0a45b8-1029-4d2a-ed53-c010e3e3b901"
      },
      "outputs": [
        {
          "output_type": "stream",
          "name": "stdout",
          "text": [
            "\u001b[1m5/5\u001b[0m \u001b[32m━━━━━━━━━━━━━━━━━━━━\u001b[0m\u001b[37m\u001b[0m \u001b[1m11s\u001b[0m 2s/step\n",
            "Confusion Matrix:\n",
            " [[20  0  0  3]\n",
            " [ 2 18  0  1]\n",
            " [ 0  1 12  0]\n",
            " [ 3  0  0 12]]\n",
            "Classification Report:\n",
            "                                                   precision    recall  f1-score   support\n",
            "\n",
            "      adenocarcinoma_left.lower.lobe_T2_N0_M0_Ib       0.80      0.87      0.83        23\n",
            "   large.cell.carcinoma_left.hilum_T2_N2_M0_IIIa       0.95      0.86      0.90        21\n",
            "                                          normal       1.00      0.92      0.96        13\n",
            "squamous.cell.carcinoma_left.hilum_T1_N2_M0_IIIa       0.75      0.80      0.77        15\n",
            "\n",
            "                                        accuracy                           0.86        72\n",
            "                                       macro avg       0.87      0.86      0.87        72\n",
            "                                    weighted avg       0.87      0.86      0.86        72\n",
            "\n"
          ]
        }
      ],
      "source": [
        "from sklearn.metrics import confusion_matrix, classification_report\n",
        "\n",
        "# validation directory path\n",
        "val_path = \"/content/drive/My Drive/Lung cancer detection/valid\"\n",
        "val_image_paths = []\n",
        "val_labels = []\n",
        "\n",
        "# List of class names\n",
        "val_class_names = sorted(os.listdir(val_path))\n",
        "\n",
        "for idx, category in enumerate(val_class_names):\n",
        "    category_path = os.path.join(val_path, category)\n",
        "    for file in os.listdir(category_path):\n",
        "        if file.lower().endswith(('.jpg', '.jpeg', '.png')):\n",
        "            val_image_paths.append(os.path.join(category_path, file))\n",
        "            val_labels.append(idx)\n",
        "\n",
        "val_image_paths = np.array(val_image_paths)\n",
        "val_labels = np.array(val_labels)\n",
        "\n",
        "eval_dataset = build_dataset(val_image_paths, val_labels, shuffle_data=False, apply_augmentation=False)\n",
        "\n",
        "# Run model\n",
        "predicted_probabilities = model_final.predict(eval_dataset)\n",
        "predicted_classes = np.argmax(predicted_probabilities, axis=1)\n",
        "\n",
        "# Display performance metrics\n",
        "conf_matrix = confusion_matrix(val_labels, predicted_classes)\n",
        "print(\"Confusion Matrix:\\n\", conf_matrix)\n",
        "\n",
        "eval_report = classification_report(val_labels, predicted_classes, target_names=val_class_names)\n",
        "print(\"Classification Report:\\n\", eval_report)\n"
      ]
    },
    {
      "cell_type": "markdown",
      "source": [
        "**Finalise the model**"
      ],
      "metadata": {
        "id": "9JCq_VvyV-bv"
      }
    },
    {
      "cell_type": "code",
      "execution_count": 14,
      "metadata": {
        "id": "RtZYMObt_XwC"
      },
      "outputs": [],
      "source": [
        "model_final.save('m86acc.keras')\n"
      ]
    }
  ],
  "metadata": {
    "colab": {
      "provenance": []
    },
    "kernelspec": {
      "display_name": "Python 3",
      "name": "python3"
    },
    "language_info": {
      "name": "python"
    }
  },
  "nbformat": 4,
  "nbformat_minor": 0
}